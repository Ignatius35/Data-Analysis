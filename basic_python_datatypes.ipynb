{
 "cells": [
  {
   "cell_type": "markdown",
   "metadata": {},
   "source": [
    "# Variable Assignment"
   ]
  },
  {
   "cell_type": "code",
   "execution_count": 1,
   "metadata": {},
   "outputs": [],
   "source": [
    "x = 5 # this is an integer"
   ]
  },
  {
   "cell_type": "code",
   "execution_count": 2,
   "metadata": {},
   "outputs": [
    {
     "data": {
      "text/plain": [
       "5"
      ]
     },
     "execution_count": 2,
     "metadata": {},
     "output_type": "execute_result"
    }
   ],
   "source": [
    "x"
   ]
  },
  {
   "cell_type": "markdown",
   "metadata": {},
   "source": [
    "# Hello this is a heading\n",
    "## This is heading 2\n",
    "### This is heading 3\n",
    "\n",
    "Regular Text\n",
    "\n",
    "**Bold Text**\n",
    "*Italic Text*\n",
    "\n",
    "Bullet Points\n",
    ". Point 1\n",
    ".Point 2"
   ]
  },
  {
   "cell_type": "markdown",
   "metadata": {},
   "source": [
    "1. Point 1\n",
    "2. Point 2"
   ]
  },
  {
   "cell_type": "markdown",
   "metadata": {},
   "source": [
    "*italic*"
   ]
  },
  {
   "cell_type": "markdown",
   "metadata": {},
   "source": [
    "## Data Types and Structures. Primitive and Non Primitive"
   ]
  },
  {
   "cell_type": "code",
   "execution_count": 3,
   "metadata": {},
   "outputs": [
    {
     "data": {
      "text/plain": [
       "int"
      ]
     },
     "execution_count": 3,
     "metadata": {},
     "output_type": "execute_result"
    }
   ],
   "source": [
    "x = 5 # This is an integer\n",
    "type(x)"
   ]
  },
  {
   "cell_type": "code",
   "execution_count": 4,
   "metadata": {},
   "outputs": [
    {
     "data": {
      "text/plain": [
       "float"
      ]
     },
     "execution_count": 4,
     "metadata": {},
     "output_type": "execute_result"
    }
   ],
   "source": [
    "y = 5.0 # This is a float\n",
    "type(y)"
   ]
  },
  {
   "cell_type": "markdown",
   "metadata": {},
   "source": [
    "# Boolean: True-False Values that correlate to 1 and 0"
   ]
  },
  {
   "cell_type": "markdown",
   "metadata": {},
   "source": [
    "# boolean = True # This is a bolean \n",
    "# not_boolean ='True' # This is a string not a boolean\n",
    "\n",
    "# x = 1\n",
    "# y = '1'\n",
    "# x == y # This gets us a boolean"
   ]
  },
  {
   "cell_type": "markdown",
   "metadata": {},
   "source": [
    "# Comparison Operators"
   ]
  },
  {
   "cell_type": "markdown",
   "metadata": {},
   "source": [
    "# 3 == # Equals\n",
    "# 3 ! = # 4 Does not equal\n",
    "# 3 > 4 # Grater than \n",
    "# 3 < 5 # Less than\n",
    "# 2 >= 2 Greater than or eyal to\n",
    "# 4<= 4 Less than or equal to"
   ]
  },
  {
   "cell_type": "markdown",
   "metadata": {},
   "source": [
    "# Logical Operators"
   ]
  },
  {
   "cell_type": "markdown",
   "metadata": {},
   "source": [
    "### 3 == and 2 <= 5 # Returns true if both operations are true \n",
    "### 3 == or 2 <= 1 # Returns true if one operation is true \n",
    "### not (3 == 3 and 2 <= 5) # the opposite (false in this case)"
   ]
  },
  {
   "cell_type": "markdown",
   "metadata": {},
   "source": [
    "# Membership Operations "
   ]
  },
  {
   "cell_type": "markdown",
   "metadata": {},
   "source": [
    "### \"T\" in \"TRDFSADFASD\"\n",
    "### \"Z\" not in [\"a\", 123, 14, 41, 4]"
   ]
  },
  {
   "cell_type": "markdown",
   "metadata": {},
   "source": [
    "# Functions"
   ]
  },
  {
   "cell_type": "markdown",
   "metadata": {},
   "source": [
    "### def function_name(x, y, z) :\n",
    "### return x + y + z # The \"return\" tells python what to output from a function \n",
    "\n",
    "### function_name(x = 1, y = 2, z = 3) # This is how we call a function \n",
    "### function_name(1, 2, 3) # You can also call it like this by letting python assume your arguments are in order\n",
    "### function_name(1, 2, z = 4) # You can also not specify earlier arguments, but specify later ones\n",
    "### function_name(x = 1, 2, 3) # This is not valid (python doesn't know what arguments to match 2 and 3 with \n"
   ]
  },
  {
   "cell_type": "markdown",
   "metadata": {},
   "source": [
    "### The input x, y, z are what we called arguments."
   ]
  },
  {
   "cell_type": "markdown",
   "metadata": {},
   "source": [
    "# Arithmetic Operations"
   ]
  },
  {
   "cell_type": "markdown",
   "metadata": {},
   "source": [
    "### add = 2 + 2\n",
    "### add_str = \"str\" + \"str\"\n",
    "### add_list = [1, 2, 3, 4, ] + [1,2]\n",
    "\n",
    "\n",
    "### sub = 3 -1 \n",
    "\n",
    "\n",
    "### mult = 3 * 3\n",
    "### mult_str = 'str' * 3\n",
    "### mult_list = [1, 2, 3] * 3 \n",
    "\n",
    "### div = 2 / 2 \n",
    "\n",
    "\n",
    "### modulo = 10%3 # Gives you the remainder of a division operation\n",
    " ### floor_division = 7 // 2 # Gives you the largest multiple, in this case it's 3\n",
    "\n",
    " ### print(add)\n",
    " ### print(add_str)\n",
    " ### print(add_list)\n",
    " ### print(sub)\n",
    " ### print(mult)\n",
    " ### print(mult_str)\n",
    " ### print (mult_list)\n",
    " ### print(div)\n",
    " ### print(mudolo)\n",
    " ### print(floor_division)\n",
    "\n"
   ]
  },
  {
   "cell_type": "markdown",
   "metadata": {},
   "source": [
    "### def our_function(x, y, z):\n",
    "### return x + y + z"
   ]
  },
  {
   "cell_type": "code",
   "execution_count": 5,
   "metadata": {},
   "outputs": [],
   "source": [
    "def function_name(x, y, z):\n",
    "    x = 3\n",
    "    y = 2\n",
    "    return x + y + z\n"
   ]
  },
  {
   "cell_type": "code",
   "execution_count": 6,
   "metadata": {},
   "outputs": [
    {
     "data": {
      "text/plain": [
       "8"
      ]
     },
     "execution_count": 6,
     "metadata": {},
     "output_type": "execute_result"
    }
   ],
   "source": [
    "function_name(x=1, y=2, z=3)"
   ]
  },
  {
   "cell_type": "code",
   "execution_count": 7,
   "metadata": {},
   "outputs": [],
   "source": [
    "import numpy as np"
   ]
  },
  {
   "cell_type": "code",
   "execution_count": 8,
   "metadata": {},
   "outputs": [
    {
     "name": "stdout",
     "output_type": "stream",
     "text": [
      "[1, 2, 3, 4]\n"
     ]
    }
   ],
   "source": [
    "np.array = ([1, 2, 3, 4])\n",
    "print(np.array)"
   ]
  },
  {
   "cell_type": "code",
   "execution_count": 9,
   "metadata": {},
   "outputs": [
    {
     "name": "stdout",
     "output_type": "stream",
     "text": [
      "[3, 4, 5, 6, 7, 8, 9, 10, 11, 12, 13, 14, 15, 16, 17, 18, 19, 20, 21, 22, 23, 24, 25, 26, 27, 28, 29, 30, 31, 32, 33, 34, 35, 36, 37, 38, 39, 40, 41, 42, 43, 44, 45, 46, 47, 48, 49]\n"
     ]
    }
   ],
   "source": [
    "the_list = list(range(3, 50))\n",
    "print(the_list)"
   ]
  },
  {
   "cell_type": "code",
   "execution_count": 10,
   "metadata": {},
   "outputs": [
    {
     "name": "stdout",
     "output_type": "stream",
     "text": [
      "4\n",
      "5\n",
      "6\n",
      "7\n",
      "8\n",
      "9\n",
      "10\n"
     ]
    }
   ],
   "source": [
    "the_list = range(3, 10)\n",
    "for i in the_list:\n",
    "    i += 1  # same as saying i = i + 1\n",
    "    print(i)"
   ]
  },
  {
   "cell_type": "code",
   "execution_count": 12,
   "metadata": {},
   "outputs": [
    {
     "name": "stdout",
     "output_type": "stream",
     "text": [
      "i is now 3\n",
      "out put is now 4\n",
      "loop has ended\n",
      "i is now 4\n",
      "out put is now 5\n",
      "loop has ended\n",
      "i is now 5\n",
      "out put is now 6\n",
      "loop has ended\n",
      "i is now 6\n",
      "out put is now 7\n",
      "loop has ended\n",
      "i is now 7\n",
      "out put is now 8\n",
      "loop has ended\n",
      "i is now 8\n",
      "out put is now 9\n",
      "loop has ended\n",
      "i is now 9\n",
      "out put is now 10\n",
      "loop has ended\n"
     ]
    }
   ],
   "source": [
    "the_list = range(3, 10)\n",
    "for i in the_list:\n",
    "    print(\"i is now\", i)\n",
    "    i += 1  # same as saying i = i + 1\n",
    "    print(\"out put is now\", i)\n",
    "    print(\"loop has ended\")             # for more demonstration"
   ]
  },
  {
   "cell_type": "code",
   "execution_count": 13,
   "metadata": {},
   "outputs": [
    {
     "name": "stdout",
     "output_type": "stream",
     "text": [
      "1\n",
      "2\n",
      "3\n",
      "4\n",
      "5\n"
     ]
    }
   ],
   "source": [
    "x = 0\n",
    "while x < 5:  # The condition that has to be true for this loop to continue\n",
    "    x +=1  # These are the calculations that are performed each loop\n",
    "    print(x)"
   ]
  },
  {
   "cell_type": "code",
   "execution_count": 16,
   "metadata": {},
   "outputs": [
    {
     "name": "stdout",
     "output_type": "stream",
     "text": [
      "x is less than y\n"
     ]
    }
   ],
   "source": [
    "x = 3\n",
    "y = 5\n",
    "\n",
    "if x == y:    # == means equivelent \n",
    "    print(\"x equals y\")\n",
    "elif x > y:\n",
    "    print(\"x is greater than y\")     # elif is short form of else if\n",
    "else: \n",
    "    print(\"x is less than y\")      # else is just the final condition"
   ]
  },
  {
   "cell_type": "code",
   "execution_count": 17,
   "metadata": {},
   "outputs": [
    {
     "name": "stdout",
     "output_type": "stream",
     "text": [
      "can't divide by zero\n"
     ]
    }
   ],
   "source": [
    "try:\n",
    "    2 / 0   # you can't divide by 0 \n",
    "except ZeroDivisionError:\n",
    "    print(\"can't divide by zero\")"
   ]
  }
 ],
 "metadata": {
  "interpreter": {
   "hash": "31f2aee4e71d21fbe5cf8b01ff0e069b9275f58929596ceb00d14d90e3e16cd6"
  },
  "kernelspec": {
   "display_name": "Python 3.8.9 64-bit",
   "language": "python",
   "name": "python3"
  },
  "language_info": {
   "codemirror_mode": {
    "name": "ipython",
    "version": 3
   },
   "file_extension": ".py",
   "mimetype": "text/x-python",
   "name": "python",
   "nbconvert_exporter": "python",
   "pygments_lexer": "ipython3",
   "version": "3.9.7"
  },
  "orig_nbformat": 4
 },
 "nbformat": 4,
 "nbformat_minor": 2
}
